{
 "cells": [
  {
   "cell_type": "code",
   "execution_count": 40,
   "metadata": {},
   "outputs": [],
   "source": [
    "import tweepy\n",
    "import pandas as pd\n",
    "import time"
   ]
  },
  {
   "cell_type": "code",
   "execution_count": 37,
   "metadata": {},
   "outputs": [],
   "source": [
    "import dearpygui\n"
   ]
  },
  {
   "cell_type": "code",
   "execution_count": 41,
   "metadata": {},
   "outputs": [
    {
     "ename": "ImportError",
     "evalue": "dlopen(/Users/alainak/opt/anaconda3/lib/python3.8/site-packages/dearpygui/_dearpygui.so, 2): Library not loaded: /usr/local/opt/libpng/lib/libpng16.16.dylib\n  Referenced from: /Users/alainak/opt/anaconda3/lib/python3.8/site-packages/dearpygui/_dearpygui.so\n  Reason: image not found",
     "output_type": "error",
     "traceback": [
      "\u001b[0;31m---------------------------------------------------------------------------\u001b[0m",
      "\u001b[0;31mImportError\u001b[0m                               Traceback (most recent call last)",
      "\u001b[0;32m<ipython-input-41-fd240441dbbe>\u001b[0m in \u001b[0;36m<module>\u001b[0;34m\u001b[0m\n\u001b[0;32m----> 1\u001b[0;31m \u001b[0;32mimport\u001b[0m \u001b[0mdearpygui\u001b[0m\u001b[0;34m.\u001b[0m\u001b[0mdearpygui\u001b[0m \u001b[0;32mas\u001b[0m \u001b[0mdpg\u001b[0m\u001b[0;34m\u001b[0m\u001b[0;34m\u001b[0m\u001b[0m\n\u001b[0m\u001b[1;32m      2\u001b[0m \u001b[0;34m\u001b[0m\u001b[0m\n\u001b[1;32m      3\u001b[0m \u001b[0mdpg\u001b[0m\u001b[0;34m.\u001b[0m\u001b[0mcreate_context\u001b[0m\u001b[0;34m(\u001b[0m\u001b[0;34m)\u001b[0m\u001b[0;34m\u001b[0m\u001b[0;34m\u001b[0m\u001b[0m\n\u001b[1;32m      4\u001b[0m \u001b[0mdpg\u001b[0m\u001b[0;34m.\u001b[0m\u001b[0mcreate_viewport\u001b[0m\u001b[0;34m(\u001b[0m\u001b[0mtitle\u001b[0m\u001b[0;34m=\u001b[0m\u001b[0;34m'Custom Title'\u001b[0m\u001b[0;34m,\u001b[0m \u001b[0mwidth\u001b[0m\u001b[0;34m=\u001b[0m\u001b[0;36m600\u001b[0m\u001b[0;34m,\u001b[0m \u001b[0mheight\u001b[0m\u001b[0;34m=\u001b[0m\u001b[0;36m300\u001b[0m\u001b[0;34m)\u001b[0m\u001b[0;34m\u001b[0m\u001b[0;34m\u001b[0m\u001b[0m\n\u001b[1;32m      5\u001b[0m \u001b[0;34m\u001b[0m\u001b[0m\n",
      "\u001b[0;32m~/opt/anaconda3/lib/python3.8/site-packages/dearpygui/dearpygui.py\u001b[0m in \u001b[0;36m<module>\u001b[0;34m\u001b[0m\n\u001b[1;32m     20\u001b[0m \u001b[0;32mimport\u001b[0m \u001b[0mfunctools\u001b[0m\u001b[0;34m\u001b[0m\u001b[0;34m\u001b[0m\u001b[0m\n\u001b[1;32m     21\u001b[0m \u001b[0;32mimport\u001b[0m \u001b[0minspect\u001b[0m\u001b[0;34m\u001b[0m\u001b[0;34m\u001b[0m\u001b[0m\n\u001b[0;32m---> 22\u001b[0;31m \u001b[0;32mimport\u001b[0m \u001b[0mdearpygui\u001b[0m\u001b[0;34m.\u001b[0m\u001b[0m_dearpygui\u001b[0m \u001b[0;32mas\u001b[0m \u001b[0minternal_dpg\u001b[0m\u001b[0;34m\u001b[0m\u001b[0;34m\u001b[0m\u001b[0m\n\u001b[0m\u001b[1;32m     23\u001b[0m \u001b[0;32mfrom\u001b[0m \u001b[0mdearpygui\u001b[0m\u001b[0;34m.\u001b[0m\u001b[0m_dearpygui\u001b[0m \u001b[0;32mimport\u001b[0m \u001b[0mmvBuffer\u001b[0m\u001b[0;34m\u001b[0m\u001b[0;34m\u001b[0m\u001b[0m\n\u001b[1;32m     24\u001b[0m \u001b[0;32mfrom\u001b[0m \u001b[0mdearpygui\u001b[0m\u001b[0;34m.\u001b[0m\u001b[0m_dearpygui\u001b[0m \u001b[0;32mimport\u001b[0m \u001b[0mmvVec4\u001b[0m\u001b[0;34m\u001b[0m\u001b[0;34m\u001b[0m\u001b[0m\n",
      "\u001b[0;31mImportError\u001b[0m: dlopen(/Users/alainak/opt/anaconda3/lib/python3.8/site-packages/dearpygui/_dearpygui.so, 2): Library not loaded: /usr/local/opt/libpng/lib/libpng16.16.dylib\n  Referenced from: /Users/alainak/opt/anaconda3/lib/python3.8/site-packages/dearpygui/_dearpygui.so\n  Reason: image not found"
     ]
    }
   ],
   "source": [
    "import dearpygui.dearpygui as dpg\n",
    "\n",
    "dpg.create_context()\n",
    "dpg.create_viewport(title='Custom Title', width=600, height=300)\n",
    "\n",
    "with dpg.window(label=\"Example Window\"):\n",
    "    dpg.add_text(\"Hello, world\")\n",
    "    dpg.add_button(label=\"Save\")\n",
    "    dpg.add_input_text(label=\"string\", default_value=\"Quick brown fox\")\n",
    "    dpg.add_slider_float(label=\"float\", default_value=0.273, max_value=1)\n",
    "\n",
    "dpg.setup_dearpygui()\n",
    "dpg.show_viewport()\n",
    "dpg.start_dearpygui()\n",
    "dpg.destroy_context()"
   ]
  },
  {
   "cell_type": "code",
   "execution_count": null,
   "metadata": {},
   "outputs": [],
   "source": [
    "latest_tweet_number = 0\n",
    "\n",
    "\n",
    "with open('C:\\\\twitter\\\\latest.txt') as f:\n",
    "    latest_tweet_number = int(f.read())\n",
    "\n",
    "print(latest_tweet_number)\n",
    "\n",
    "import pandas as pd\n",
    "df = pd.read_csv(r'C:\\Users\\USER\\Downloads\\quotes.csv', sep=';')\n",
    "\n",
    "def tweet_now(msg):\n",
    "    msg = msg[0:270]\n",
    "    try:\n",
    "\n",
    "        auth = tweepy.OAuthHandler(\"DthisisnotrealEcjpTv1\", \n",
    "            \"h3dHaEQrjlOGT5Bqtw1DthisisnotrealLgNjVV0L05hRJ\")\n",
    "        auth.set_access_token(\"2517455480-UQBnDthisisnotrealSn9CI5oN\", \n",
    "            \"2WNbmrhXWDthisisnotrealNKBzUL\")\n",
    "        api = tweepy.API(auth)\n",
    "        try:\n",
    "            api.verify_credentials()\n",
    "            print(\"Authentication OK\")\n",
    "        except:\n",
    "            print(\"Error during authentication\")\n",
    "        api = tweepy.API(auth, wait_on_rate_limit=True, wait_on_rate_limit_notify=True)\n",
    "        api.update_status(msg)\n",
    "        print(msg)\n",
    "\n",
    "        print(\"Tweeted\")\n",
    "    \n",
    "    except Exception as e:\n",
    "        print(e)\n",
    "\n",
    "for idx, rows in df.iterrows():\n",
    "    if idx <= latest_tweet_number:\n",
    "        continue\n",
    "        \n",
    "    hashtags = '#inspirational #inspiration #motivation #motivational #inspirationalquotes #inspire #motivationalquotes #quotes #love #quoteoftheday #success #believe #mindset #life #positivevibes #entrepreneur #quote #positivity #goals #selflove #happiness #lifestyle #successquotes #bhfyp #yourself #thoughts #instadaily #loveyourself #photooftheday #bhfyp'\n",
    "    tweet_now(rows['QUOTE'] + ' - ' + rows['AUTHOR'] + '\\n\\n\\n' + hashtags)\n",
    "    \n",
    "    with open('C:\\\\twitter\\\\latest.txt',\"w\") as f:\n",
    "        f.write(str(idx))\n",
    "\n",
    "    print(\"done\")\n",
    "    time.sleep(1800)"
   ]
  }
 ],
 "metadata": {
  "interpreter": {
   "hash": "fdcfc501d41136fa986636a91abbe2e1a431aea487791447fdf90b1d3fdb2775"
  },
  "kernelspec": {
   "display_name": "Python 3.8.3",
   "language": "python",
   "name": "python3"
  },
  "language_info": {
   "codemirror_mode": {
    "name": "ipython",
    "version": 3
   },
   "file_extension": ".py",
   "mimetype": "text/x-python",
   "name": "python",
   "nbconvert_exporter": "python",
   "pygments_lexer": "ipython3",
   "version": "3.8.3"
  },
  "orig_nbformat": 4
 },
 "nbformat": 4,
 "nbformat_minor": 2
}
